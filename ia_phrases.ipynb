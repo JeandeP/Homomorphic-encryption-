{
 "cells": [
  {
   "cell_type": "code",
   "execution_count": 7,
   "id": "offshore-milton",
   "metadata": {},
   "outputs": [],
   "source": [
    "import tensorflow as tf\n",
    "import keras\n",
    "import numpy as np"
   ]
  },
  {
   "cell_type": "code",
   "execution_count": 8,
   "id": "dying-stewart",
   "metadata": {},
   "outputs": [],
   "source": [
    "def trad(string):\n",
    "    res = []\n",
    "    for i in string:\n",
    "        res.append(ord(i)/255)\n",
    "    return np.array([res])"
   ]
  },
  {
   "cell_type": "code",
   "execution_count": 9,
   "id": "polyphonic-yugoslavia",
   "metadata": {},
   "outputs": [],
   "source": [
    "phrases_train = np.array([\"Bonjour, mon nom est Pierre.\",\n",
    "                          \"Non, je suis ton père.\",\n",
    "                          \"Un jour viendra, où le courage des hommes s'effondrera.\",\n",
    "                          \"Ils amènent les hobbits en Isengard.\",\n",
    "                          \"Vous, ne passerez pas!\",\n",
    "                          \"Formez les rangs vermines!\",\n",
    "                          \"Debout! Debout chevaliers de Theoden!\",\n",
    "                          \"Courrez à la ruine, et à la fin du monde!\",\n",
    "                          \"Hi, my name's Pierre.\",\n",
    "                          \"No, I am your father.\",\n",
    "                          \"A day may come, when the courage of men will falter.\",\n",
    "                          \"they're taking the hobbits to Isengard.\",\n",
    "                          \"You shall not pass!\",\n",
    "                          \"Form ranks maggots!\",\n",
    "                          \"Rise! Rise, riders of Theoden!\",\n",
    "                          \"Ride to ruin et the world ending!\"\n",
    "                         ])\n",
    "language_train = np.array([0,0,0,0,0,0,0,0,\n",
    "                           .5,.5,.5,.5,.5,.5,.5,.5\n",
    "                          ])\n",
    "trad_train = np.empty([0,200])\n",
    "\n",
    "for i in phrases_train:\n",
    "    while len(i) < 200:\n",
    "        i+= ' '\n",
    "    trad_train = np.append(trad_train, trad(i), axis=0)\n",
    "\n",
    "model = tf.keras.Sequential()\n",
    "model.add(tf.keras.layers.Dense(3, activation='relu', input_dim=200))\n",
    "model.add(tf.keras.layers.Dense(3, activation='relu'))\n",
    "model.add(tf.keras.layers.Dense(1, activation='sigmoid'))"
   ]
  },
  {
   "cell_type": "code",
   "execution_count": 10,
   "id": "animated-exhaust",
   "metadata": {},
   "outputs": [],
   "source": [
    "sgd = tf.keras.optimizers.SGD(lr=0.02)\n",
    "model.compile(loss='sparse_categorical_crossentropy', optimizer=sgd, metrics=['accuracy'])"
   ]
  },
  {
   "cell_type": "code",
   "execution_count": 11,
   "id": "amazing-myrtle",
   "metadata": {},
   "outputs": [
    {
     "name": "stdout",
     "output_type": "stream",
     "text": [
      "Epoch 1/40\n",
      "1/1 [==============================] - 0s 997us/step - loss: 0.0000e+00 - accuracy: 0.1250\n",
      "Epoch 2/40\n",
      "1/1 [==============================] - 0s 1ms/step - loss: 0.0000e+00 - accuracy: 0.1250\n",
      "Epoch 3/40\n",
      "1/1 [==============================] - 0s 1ms/step - loss: 0.0000e+00 - accuracy: 0.1250\n",
      "Epoch 4/40\n",
      "1/1 [==============================] - 0s 0s/step - loss: 0.0000e+00 - accuracy: 0.1250\n",
      "Epoch 5/40\n",
      "1/1 [==============================] - 0s 996us/step - loss: 0.0000e+00 - accuracy: 0.1250\n",
      "Epoch 6/40\n",
      "1/1 [==============================] - 0s 0s/step - loss: 0.0000e+00 - accuracy: 0.1250\n",
      "Epoch 7/40\n",
      "1/1 [==============================] - 0s 1ms/step - loss: 0.0000e+00 - accuracy: 0.1250\n",
      "Epoch 8/40\n",
      "1/1 [==============================] - 0s 998us/step - loss: 0.0000e+00 - accuracy: 0.1250\n",
      "Epoch 9/40\n",
      "1/1 [==============================] - 0s 997us/step - loss: 0.0000e+00 - accuracy: 0.1250\n",
      "Epoch 10/40\n",
      "1/1 [==============================] - 0s 0s/step - loss: 0.0000e+00 - accuracy: 0.1250\n",
      "Epoch 11/40\n",
      "1/1 [==============================] - 0s 0s/step - loss: 0.0000e+00 - accuracy: 0.1250\n",
      "Epoch 12/40\n",
      "1/1 [==============================] - 0s 0s/step - loss: 0.0000e+00 - accuracy: 0.1250\n",
      "Epoch 13/40\n",
      "1/1 [==============================] - 0s 999us/step - loss: 0.0000e+00 - accuracy: 0.1250\n",
      "Epoch 14/40\n",
      "1/1 [==============================] - 0s 988us/step - loss: 0.0000e+00 - accuracy: 0.1250\n",
      "Epoch 15/40\n",
      "1/1 [==============================] - 0s 0s/step - loss: 0.0000e+00 - accuracy: 0.1250\n",
      "Epoch 16/40\n",
      "1/1 [==============================] - 0s 0s/step - loss: 0.0000e+00 - accuracy: 0.1250\n",
      "Epoch 17/40\n",
      "1/1 [==============================] - 0s 998us/step - loss: 0.0000e+00 - accuracy: 0.1250\n",
      "Epoch 18/40\n",
      "1/1 [==============================] - 0s 996us/step - loss: 0.0000e+00 - accuracy: 0.1250\n",
      "Epoch 19/40\n",
      "1/1 [==============================] - 0s 1ms/step - loss: 0.0000e+00 - accuracy: 0.1250\n",
      "Epoch 20/40\n",
      "1/1 [==============================] - 0s 991us/step - loss: 0.0000e+00 - accuracy: 0.1250\n",
      "Epoch 21/40\n",
      "1/1 [==============================] - 0s 2ms/step - loss: 0.0000e+00 - accuracy: 0.1250\n",
      "Epoch 22/40\n",
      "1/1 [==============================] - 0s 0s/step - loss: 0.0000e+00 - accuracy: 0.1250\n",
      "Epoch 23/40\n",
      "1/1 [==============================] - 0s 997us/step - loss: 0.0000e+00 - accuracy: 0.1250\n",
      "Epoch 24/40\n",
      "1/1 [==============================] - 0s 1ms/step - loss: 0.0000e+00 - accuracy: 0.1250\n",
      "Epoch 25/40\n",
      "1/1 [==============================] - 0s 0s/step - loss: 0.0000e+00 - accuracy: 0.1250\n",
      "Epoch 26/40\n",
      "1/1 [==============================] - 0s 997us/step - loss: 0.0000e+00 - accuracy: 0.1250\n",
      "Epoch 27/40\n",
      "1/1 [==============================] - 0s 962us/step - loss: 0.0000e+00 - accuracy: 0.1250\n",
      "Epoch 28/40\n",
      "1/1 [==============================] - 0s 964us/step - loss: 0.0000e+00 - accuracy: 0.1250\n",
      "Epoch 29/40\n",
      "1/1 [==============================] - 0s 0s/step - loss: 0.0000e+00 - accuracy: 0.1250\n",
      "Epoch 30/40\n",
      "1/1 [==============================] - 0s 1ms/step - loss: 0.0000e+00 - accuracy: 0.1250\n",
      "Epoch 31/40\n",
      "1/1 [==============================] - 0s 1ms/step - loss: 0.0000e+00 - accuracy: 0.1250\n",
      "Epoch 32/40\n",
      "1/1 [==============================] - 0s 1ms/step - loss: 0.0000e+00 - accuracy: 0.1250\n",
      "Epoch 33/40\n",
      "1/1 [==============================] - 0s 0s/step - loss: 0.0000e+00 - accuracy: 0.1250\n",
      "Epoch 34/40\n",
      "1/1 [==============================] - 0s 997us/step - loss: 0.0000e+00 - accuracy: 0.1250\n",
      "Epoch 35/40\n",
      "1/1 [==============================] - 0s 2ms/step - loss: 0.0000e+00 - accuracy: 0.1250\n",
      "Epoch 36/40\n",
      "1/1 [==============================] - 0s 1ms/step - loss: 0.0000e+00 - accuracy: 0.1250\n",
      "Epoch 37/40\n",
      "1/1 [==============================] - 0s 1ms/step - loss: 0.0000e+00 - accuracy: 0.1250\n",
      "Epoch 38/40\n",
      "1/1 [==============================] - 0s 1ms/step - loss: 0.0000e+00 - accuracy: 0.1250\n",
      "Epoch 39/40\n",
      "1/1 [==============================] - 0s 1ms/step - loss: 0.0000e+00 - accuracy: 0.1250\n",
      "Epoch 40/40\n",
      "1/1 [==============================] - 0s 2ms/step - loss: 0.0000e+00 - accuracy: 0.1250\n"
     ]
    },
    {
     "data": {
      "text/plain": [
       "<tensorflow.python.keras.callbacks.History at 0x20129002f48>"
      ]
     },
     "execution_count": 11,
     "metadata": {},
     "output_type": "execute_result"
    }
   ],
   "source": [
    "model.fit(trad_train, language_train, epochs=40, batch_size=64)"
   ]
  },
  {
   "cell_type": "code",
   "execution_count": null,
   "id": "numeric-granny",
   "metadata": {},
   "outputs": [],
   "source": []
  }
 ],
 "metadata": {
  "kernelspec": {
   "display_name": "Python 3",
   "language": "python",
   "name": "python3"
  },
  "language_info": {
   "codemirror_mode": {
    "name": "ipython",
    "version": 3
   },
   "file_extension": ".py",
   "mimetype": "text/x-python",
   "name": "python",
   "nbconvert_exporter": "python",
   "pygments_lexer": "ipython3",
   "version": "3.7.10"
  }
 },
 "nbformat": 4,
 "nbformat_minor": 5
}
